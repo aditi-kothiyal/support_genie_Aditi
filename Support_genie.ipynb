{
 "cells": [
  {
   "cell_type": "code",
   "execution_count": 2,
   "metadata": {},
   "outputs": [],
   "source": []
  },
  {
   "cell_type": "code",
   "execution_count": 18,
   "metadata": {},
   "outputs": [],
   "source": [
    "import datetime\n",
    "from datetime import date,timedelta\n",
    "\n",
    "class Agent:\n",
    "    def __init__(self,name,is_available,available_since,roles):\n",
    "        self.name=name\n",
    "        self.is_available=is_available\n",
    "        if(is_available):\n",
    "            self.available_since=available_since\n",
    "        else:\n",
    "            self.available_since=datetime.MAXYEAR\n",
    "        self.roles=roles"
   ]
  },
  {
   "cell_type": "code",
   "execution_count": 19,
   "metadata": {},
   "outputs": [],
   "source": [
    "\n",
    "\n",
    "#  free for least\n",
    "agent1 = Agent ('AGENT_1', True, date.today(), ['maths', 'english', 'physics', 'chemistry', 'biology', 'computer'])\n",
    "\n",
    "#  free for the longest\n",
    "agent2 = Agent ('AGENT_2', True, date(2020,2,1), ['maths', 'english', 'physics'])\n",
    "\n",
    "agent3 = Agent('AGENT_3', True, date(2020,3,1), ['chemistry', 'biology', 'computer'])\n",
    "agent4 = Agent('AGENT_4', True, date(2020,4,1),['biology', 'computer'])\n",
    "agent5 = Agent('AGENT_5', False, date(2020,5,3), ['computer'])\n",
    "agent6 = Agent('AGENT_6', False, '', ['maths', 'english', 'physics', 'biology', 'computer'])\n"
   ]
  },
  {
   "cell_type": "code",
   "execution_count": 32,
   "metadata": {},
   "outputs": [],
   "source": [
    "class Issue:\n",
    "    def __init__(self,roles):\n",
    "        self.roles=roles"
   ]
  },
  {
   "cell_type": "code",
   "execution_count": 79,
   "metadata": {},
   "outputs": [],
   "source": [
    "def compatibleAgents(issue,lst,selection_mode):\n",
    "    available_agents=[]\n",
    "    for agent in lst:\n",
    "        if agent.is_available:\n",
    "            available_agents.append(agent)\n",
    "                        \n",
    "    if(len(available_agents) == 0):\n",
    "        print(\"Agents not available\")\n",
    "        return\n",
    "    \n",
    "    \n",
    "    eligible_agents = set()\n",
    "    \n",
    "    for agent in available_agents:\n",
    "        for role in issue.roles:       \n",
    "            if role in agent.roles:\n",
    "                eligible_agents.add(agent)\n",
    "            else:\n",
    "                eligible_agents.discard(agent)\n",
    "                break\n",
    "    import random\n",
    "    sortlst=[]\n",
    "    \n",
    "    if (len(eligible_agents) == 0):\n",
    "        print(\"Agents not found for the issue. Please try again later.\")\n",
    "    else:\n",
    "        print(\"No of eligible Agents found:\"+str(len(eligible_agents)) )\n",
    "        sortlst = sorted(eligible_agents, key=lambda agent: agent.available_since)\n",
    "    #print(sortlst)\n",
    "        \n",
    "    \n",
    "        \n",
    "    agent_found=[]\n",
    "    if (selection_mode == \"random\"):\n",
    "        agent_found = sortlst[random.randint(0,len(sortlst))]\n",
    "    elif (selection_mode == \"leastbusy\"):\n",
    "        agent_found = sortlst[0]\n",
    "    elif (selection_mode == \"allavailable\"):\n",
    "        agent_found = sortlst\n",
    "    else:\n",
    "        print(\"Not a valid selection mode\")\n",
    "        print(\"Please select from these three modes:\\n allAvailable \\n leastBusy \\n random\")\n",
    "    \n",
    "    return agent_found\n",
    "       "
   ]
  },
  {
   "cell_type": "code",
   "execution_count": 82,
   "metadata": {},
   "outputs": [
    {
     "name": "stdout",
     "output_type": "stream",
     "text": [
      "No of eligible Agents found:1\n",
      "Agent available for the issue is:\n",
      "AGENT_1\n"
     ]
    }
   ],
   "source": [
    "listAgents=[agent1,agent2,agent3,agent4,agent5,agent6]\n",
    "givenIssue=Issue(['biology','english'])\n",
    "compatible_agent=compatibleAgents(givenIssue,listAgents,'leastbusy')\n",
    "\n",
    "print(\"Agent available for the issue is:\")\n",
    "if type(compatible_agent) is list:\n",
    "    for a in compatible_agent:\n",
    "        print(a.name)\n",
    "else:\n",
    "    print(compatible_agent.name)"
   ]
  },
  {
   "cell_type": "code",
   "execution_count": null,
   "metadata": {},
   "outputs": [],
   "source": []
  },
  {
   "cell_type": "code",
   "execution_count": null,
   "metadata": {},
   "outputs": [],
   "source": []
  }
 ],
 "metadata": {
  "kernelspec": {
   "display_name": "Python 3",
   "language": "python",
   "name": "python3"
  },
  "language_info": {
   "codemirror_mode": {
    "name": "ipython",
    "version": 3
   },
   "file_extension": ".py",
   "mimetype": "text/x-python",
   "name": "python",
   "nbconvert_exporter": "python",
   "pygments_lexer": "ipython3",
   "version": "3.7.0"
  }
 },
 "nbformat": 4,
 "nbformat_minor": 4
}

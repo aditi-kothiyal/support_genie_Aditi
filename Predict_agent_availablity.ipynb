{
 "cells": [
  {
   "cell_type": "code",
   "execution_count": 4,
   "metadata": {},
   "outputs": [],
   "source": [
    "#Below are the consideration for this exercise\n",
    "#start_time- stores time \n",
    "#abandoned_resolved is considered as \"boolean\" means '0' or '1' (Abandoned or resolved)\n",
    "#answer_time(time an agent started working on the issue)\n",
    "#resolved_time (the time an issue was resolved)\n",
    "#abandoned_time (if a customer left before the issue was assigned to an agent)\n",
    "# Here the timings are in the format of Hr:Min:Sec \n",
    "\n",
    "from datetime import datetime\n",
    "from datetime import timedelta\n",
    "\n"
   ]
  },
  {
   "cell_type": "code",
   "execution_count": 14,
   "metadata": {},
   "outputs": [],
   "source": [
    "class Issue:\n",
    "    def __init__(self):\n",
    "        self.check=0\n",
    "    def given_data(self,startTime,aban_or_reso,ans_time,reso_time,aban_time):\n",
    "        self.start_time=str(startTime)\n",
    "        self.abondoned_or_resolved=aban_or_reso\n",
    "        self.answer_time=str(ans_time)\n",
    "        self.resolved_time=str(reso_time)\n",
    "        self.abandoned_time=str(aban_time)\n",
    "        self.FMT='%H:%M:%S'\n",
    "\n",
    "        if(True):\n",
    "            self.check=1 \n",
    "    def predict(self):\n",
    "        if self.check==1:  #checking if issue has arrived\n",
    "            if self.abondoned_or_resolved!=0:  #issue has not been abandoned yet \n",
    "                if self.abandoned_time ==0 and self.answer_time!=0:\n",
    "                    tdelta = datetime.strptime(self.answer_time, self.FMT) - datetime.strptime(self.start_time, self.FMT)\n",
    "                    if tdelta.days < 0:\n",
    "                        tdelta = timedelta(days=0,seconds=tdelta.seconds, microseconds=tdelta.microseconds)\n",
    "                        print(tdelta)\n",
    "                    else:\n",
    "                        print(\"total time taken to Assign:\", tdelta)\n",
    "                else:\n",
    "                    print(\"the issue was abandoned for:\",self.abandoned_time)\n",
    "                    print(\"Customer left before the issue was assigned to an agent\")\n",
    "                    self.abondoned_or_resolved=0   #changing the status to 0(abandoned)\n",
    "            else:\n",
    "                print(\"Customer left before the issue was assigned to an agent\")\n",
    "        else:\n",
    "            print(\"Issue never arrived\")"
   ]
  },
  {
   "cell_type": "code",
   "execution_count": 15,
   "metadata": {},
   "outputs": [
    {
     "name": "stdout",
     "output_type": "stream",
     "text": [
      "Customer left before the issue was assigned to an agent\n"
     ]
    }
   ],
   "source": [
    "issue=Issue()\n",
    "\n",
    "#Unit Testing 1\n",
    "issue.given_data('8:40:46',0,'12:10:33','11:11:49',0)\n",
    "issue.predict()"
   ]
  },
  {
   "cell_type": "code",
   "execution_count": 16,
   "metadata": {},
   "outputs": [
    {
     "name": "stdout",
     "output_type": "stream",
     "text": [
      "the issue was abandoned for: 0\n",
      "Customer left before the issue was assigned to an agent\n"
     ]
    }
   ],
   "source": [
    "#Unit Testing 2\n",
    "issue.given_data('10:33:26',1,'13:15:49','12:15:49',0)\n",
    "issue.predict()"
   ]
  },
  {
   "cell_type": "code",
   "execution_count": 18,
   "metadata": {},
   "outputs": [
    {
     "name": "stdout",
     "output_type": "stream",
     "text": [
      "the issue was abandoned for: 10:02:06\n",
      "Customer left before the issue was assigned to an agent\n"
     ]
    }
   ],
   "source": [
    "#Unit Testing 3\n",
    "issue.given_data('10:33:26',1,'13:15:49','12:15:49','10:02:06')\n",
    "issue.predict()"
   ]
  },
  {
   "cell_type": "code",
   "execution_count": null,
   "metadata": {},
   "outputs": [],
   "source": []
  }
 ],
 "metadata": {
  "kernelspec": {
   "display_name": "Python 3",
   "language": "python",
   "name": "python3"
  },
  "language_info": {
   "codemirror_mode": {
    "name": "ipython",
    "version": 3
   },
   "file_extension": ".py",
   "mimetype": "text/x-python",
   "name": "python",
   "nbconvert_exporter": "python",
   "pygments_lexer": "ipython3",
   "version": "3.7.0"
  }
 },
 "nbformat": 4,
 "nbformat_minor": 4
}
